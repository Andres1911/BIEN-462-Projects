{
 "cells": [
  {
   "cell_type": "code",
   "execution_count": 2,
   "metadata": {},
   "outputs": [],
   "source": [
    "import scipy\n",
    "import tensorflow\n",
    "import numpy as np\n",
    "\n",
    "from tensorflow.keras.models import Sequential\n",
    "from tensorflow.keras.layers import Dense, Conv1D, Flatten, MaxPooling1D, Dropout, LSTM\n",
    "from sklearn.model_selection import train_test_split\n",
    "from sklearn.preprocessing import StandardScaler\n",
    "import os\n",
    "import random\n",
    "import matplotlib.pyplot as plt\n",
    "import pandas as pd\n",
    "\n",
    "from PyEMD import EMD\n"
   ]
  },
  {
   "cell_type": "code",
   "execution_count": 3,
   "metadata": {},
   "outputs": [
    {
     "name": "stderr",
     "output_type": "stream",
     "text": [
      "c:\\Users\\andre\\anaconda3\\Lib\\site-packages\\keras\\src\\layers\\convolutional\\base_conv.py:99: UserWarning: Do not pass an `input_shape`/`input_dim` argument to a layer. When using Sequential models, prefer using an `Input(shape)` object as the first layer in the model instead.\n",
      "  super().__init__(\n"
     ]
    }
   ],
   "source": [
    "X = np.random.randn(1000, 100, 1)  # Shape: (samples, time points, channels)\n",
    "y = np.random.randint(0, 2, (1000,))\n",
    "\n",
    "X_train, X_test, y_train, y_test = train_test_split(X, y, test_size=0.2, random_state=42)\n",
    "scaler = StandardScaler()\n",
    "# Fit on training set only\n",
    "X_train = scaler.fit_transform(X_train.reshape(-1, X_train.shape[-1])).reshape(X_train.shape)\n",
    "# Apply transform to both the training set and the test set\n",
    "X_test = scaler.transform(X_test.reshape(-1, X_test.shape[-1])).reshape(X_test.shape)\n",
    "\n",
    "model = Sequential()\n",
    "model.add(Conv1D(filters=64, kernel_size=3, activation='relu', input_shape=(100, 1)))\n",
    "model.add(MaxPooling1D(pool_size=2))\n",
    "model.add(Flatten())\n",
    "model.add(Dense(50, activation='relu'))\n",
    "model.add(Dense(1, activation='sigmoid'))"
   ]
  },
  {
   "cell_type": "code",
   "execution_count": 4,
   "metadata": {},
   "outputs": [
    {
     "name": "stdout",
     "output_type": "stream",
     "text": [
      "Epoch 1/10\n",
      "\u001b[1m20/20\u001b[0m \u001b[32m━━━━━━━━━━━━━━━━━━━━\u001b[0m\u001b[37m\u001b[0m \u001b[1m2s\u001b[0m 16ms/step - accuracy: 0.5207 - loss: 0.7087 - val_accuracy: 0.4125 - val_loss: 0.7140\n",
      "Epoch 2/10\n",
      "\u001b[1m20/20\u001b[0m \u001b[32m━━━━━━━━━━━━━━━━━━━━\u001b[0m\u001b[37m\u001b[0m \u001b[1m0s\u001b[0m 5ms/step - accuracy: 0.5367 - loss: 0.6833 - val_accuracy: 0.4563 - val_loss: 0.7166\n",
      "Epoch 3/10\n",
      "\u001b[1m20/20\u001b[0m \u001b[32m━━━━━━━━━━━━━━━━━━━━\u001b[0m\u001b[37m\u001b[0m \u001b[1m0s\u001b[0m 7ms/step - accuracy: 0.5556 - loss: 0.6722 - val_accuracy: 0.5500 - val_loss: 0.7063\n",
      "Epoch 4/10\n",
      "\u001b[1m20/20\u001b[0m \u001b[32m━━━━━━━━━━━━━━━━━━━━\u001b[0m\u001b[37m\u001b[0m \u001b[1m0s\u001b[0m 6ms/step - accuracy: 0.5925 - loss: 0.6585 - val_accuracy: 0.5000 - val_loss: 0.7204\n",
      "Epoch 5/10\n",
      "\u001b[1m20/20\u001b[0m \u001b[32m━━━━━━━━━━━━━━━━━━━━\u001b[0m\u001b[37m\u001b[0m \u001b[1m0s\u001b[0m 6ms/step - accuracy: 0.6519 - loss: 0.6344 - val_accuracy: 0.4500 - val_loss: 0.8222\n",
      "Epoch 6/10\n",
      "\u001b[1m20/20\u001b[0m \u001b[32m━━━━━━━━━━━━━━━━━━━━\u001b[0m\u001b[37m\u001b[0m \u001b[1m0s\u001b[0m 6ms/step - accuracy: 0.6910 - loss: 0.5942 - val_accuracy: 0.4500 - val_loss: 0.8969\n",
      "Epoch 7/10\n",
      "\u001b[1m20/20\u001b[0m \u001b[32m━━━━━━━━━━━━━━━━━━━━\u001b[0m\u001b[37m\u001b[0m \u001b[1m0s\u001b[0m 6ms/step - accuracy: 0.6876 - loss: 0.5948 - val_accuracy: 0.4437 - val_loss: 0.8144\n",
      "Epoch 8/10\n",
      "\u001b[1m20/20\u001b[0m \u001b[32m━━━━━━━━━━━━━━━━━━━━\u001b[0m\u001b[37m\u001b[0m \u001b[1m0s\u001b[0m 6ms/step - accuracy: 0.7543 - loss: 0.5642 - val_accuracy: 0.4062 - val_loss: 0.8057\n",
      "Epoch 9/10\n",
      "\u001b[1m20/20\u001b[0m \u001b[32m━━━━━━━━━━━━━━━━━━━━\u001b[0m\u001b[37m\u001b[0m \u001b[1m0s\u001b[0m 6ms/step - accuracy: 0.6917 - loss: 0.5719 - val_accuracy: 0.4688 - val_loss: 0.9214\n",
      "Epoch 10/10\n",
      "\u001b[1m20/20\u001b[0m \u001b[32m━━━━━━━━━━━━━━━━━━━━\u001b[0m\u001b[37m\u001b[0m \u001b[1m0s\u001b[0m 6ms/step - accuracy: 0.7230 - loss: 0.5442 - val_accuracy: 0.4500 - val_loss: 0.8906\n",
      "\u001b[1m7/7\u001b[0m \u001b[32m━━━━━━━━━━━━━━━━━━━━\u001b[0m\u001b[37m\u001b[0m \u001b[1m0s\u001b[0m 3ms/step - accuracy: 0.4957 - loss: 0.8194  \n",
      "Accuracy: 49.00%\n"
     ]
    }
   ],
   "source": [
    "model.compile(optimizer='adam', loss='binary_crossentropy', metrics=['accuracy'])\n",
    "\n",
    "model.fit(X_train, y_train, epochs=10, validation_split=0.2)\n",
    "\n",
    "_, accuracy = model.evaluate(X_test, y_test)\n",
    "print(f'Accuracy: {accuracy*100:.2f}%')\n"
   ]
  },
  {
   "cell_type": "code",
   "execution_count": 5,
   "metadata": {},
   "outputs": [],
   "source": [
    "# dataset_dir_control = \"csv_averaged_force_data_4col/GaCo04_01.csv\"\n",
    "# dataset_dir_pd = \"csv_averaged_force_data_4col/GaPt03_01.csv\"\n",
    "\n",
    "features = ['Time','VGRF_L1','VGRF_L2','VGRF_L3','VGRF_L4','VGRF_L5','VGRF_L6','VGRF_L7','VGRF_L8',\n",
    "            'VGRF_R1','VGRF_R2','VGRF_R3','VGRF_R4','VGRF_R5','VGRF_R6','VGRF_R7','VGRF_R8','Total Force_L','Total Force_R']\n",
    "file = r\"C:\\Users\\andre\\OneDrive - McGill University\\Documents\\McGill Winter 2024\\BIEN 462\\gait-in-parkinsons-disease-1.0.0\\gait-in-parkinsons-disease-1.0.0\\Ga_study\\GaCo08_01.txt\"\n",
    "df = pd.read_csv(file, delim_whitespace=True, header=None)\n",
    "df.columns = features\n"
   ]
  },
  {
   "cell_type": "code",
   "execution_count": 6,
   "metadata": {},
   "outputs": [],
   "source": [
    "# Calcuating the FAV = |L_k - R_k|/L_k  x 100%\n",
    "# FAV is the fluctuation amplitude variability defined as a criterion in the paper\n",
    "data_directory_Ga = r\"C:\\Users\\andre\\OneDrive - McGill University\\Documents\\McGill Winter 2024\\BIEN 462\\gait-in-parkinsons-disease-1.0.0\\gait-in-parkinsons-disease-1.0.0\\Ga_study\"\n",
    "data_directory_Ju = r\"C:\\Users\\andre\\OneDrive - McGill University\\Documents\\McGill Winter 2024\\BIEN 462\\gait-in-parkinsons-disease-1.0.0\\gait-in-parkinsons-disease-1.0.0\\Ju_study\"\n",
    "data_directory_Si = r\"C:\\Users\\andre\\OneDrive - McGill University\\Documents\\McGill Winter 2024\\BIEN 462\\gait-in-parkinsons-disease-1.0.0\\gait-in-parkinsons-disease-1.0.0\\Si_study\"\n",
    "# Defining a function that goes through the entire sensor column and finding the FAV\n",
    "def calculate_fav(df):\n",
    "    fav_values = {}\n",
    "\n",
    "    for i in range(1, 9):\n",
    "        L = df[f'VGRF_L{i}']\n",
    "        R = df[f'VGRF_R{i}']\n",
    "        # Filter out instances where L is near-zero to avoid distortion in FAV calculation\n",
    "        valid_indices = L > 0.01  # or another threshold appropriate for your data\n",
    "        L_valid = L[valid_indices]\n",
    "        R_valid = R[valid_indices]\n",
    "        \n",
    "        if not L_valid.empty:  # Ensure there are valid data points for calculation\n",
    "            fav = (abs(L_valid - R_valid) / L_valid).mean() * 100\n",
    "            fav_values[i] = fav\n",
    "        else:\n",
    "            fav_values[i] = 0  # or set to 0 or other indicator value\n",
    "\n",
    "    # Sort sensors by FAV in descending order, excluding None values\n",
    "    sorted_fav = sorted(fav_values.items(), key=lambda item: item[1], reverse=True)\n",
    "    \n",
    "    top_sensors = sorted_fav[:4]\n",
    "    return top_sensors"
   ]
  },
  {
   "cell_type": "code",
   "execution_count": 7,
   "metadata": {},
   "outputs": [
    {
     "name": "stdout",
     "output_type": "stream",
     "text": [
      "Top 4 sensors based on FAV: [(4, 485.91872678114896), (5, 201.13533731939134), (6, 171.53903671324295), (8, 165.5678002776125)]\n"
     ]
    }
   ],
   "source": [
    "top_sensors = calculate_fav(df)\n",
    "print(\"Top 4 sensors based on FAV:\", top_sensors)"
   ]
  },
  {
   "cell_type": "code",
   "execution_count": 54,
   "metadata": {},
   "outputs": [],
   "source": [
    "## Selecting the optimal sensors for each file and making a csv file \n",
    "all_fav_results = {}\n",
    "data_files = [f for f in os.listdir(data_directory_Ju) if os.path.isfile(os.path.join(data_directory_Ju, f))]\n",
    "features = ['Time','VGRF_L1','VGRF_L2','VGRF_L3','VGRF_L4','VGRF_L5','VGRF_L6','VGRF_L7','VGRF_L8',\n",
    "            'VGRF_R1','VGRF_R2','VGRF_R3','VGRF_R4','VGRF_R5','VGRF_R6','VGRF_R7','VGRF_R8','Total Force_L','Total Force_R']\n",
    "\n",
    "file_error = []\n",
    "for file_name in data_files:\n",
    "    if file_name.startswith('.'):\n",
    "        # Skip hidden files like .DS_Store\n",
    "        continue\n",
    "    \n",
    "    file_path = os.path.join(data_directory_Ju, file_name)\n",
    "\n",
    "    try:\n",
    "        df = pd.read_csv(file_path, delim_whitespace=True, header=None, encoding_errors = 'ignore')\n",
    "        df.columns = ['Time'] + [f'VGRF_L{i}' for i in range(1, 9)] + [f'VGRF_R{i}' for i in range(1, 9)] + ['Total_L', 'Total_R']\n",
    "\n",
    "        top_sensors = calculate_fav(df)\n",
    "        all_fav_results[file_name] = top_sensors\n",
    "    except Exception as e:\n",
    "        file_error.append(file_path)\n"
   ]
  },
  {
   "cell_type": "code",
   "execution_count": 9,
   "metadata": {},
   "outputs": [
    {
     "name": "stdout",
     "output_type": "stream",
     "text": [
      "[]\n"
     ]
    }
   ],
   "source": [
    "print(file_error)"
   ]
  },
  {
   "cell_type": "code",
   "execution_count": 10,
   "metadata": {},
   "outputs": [],
   "source": [
    "# Assuming `fav_values` is a dictionary with your FAV data\n",
    "fav_df = pd.DataFrame(list(all_fav_results.items()), columns=['File_name', 'Optimal 4 Sensor numbers to FAV Dictionary'])\n",
    "fav_df.to_csv('fav_values_Ju.csv', index=False)"
   ]
  },
  {
   "cell_type": "code",
   "execution_count": 11,
   "metadata": {},
   "outputs": [],
   "source": [
    "# Selected Sensors: 2, 4, 6, 8\n",
    "file = r\"C:\\Users\\andre\\OneDrive - McGill University\\Documents\\McGill Winter 2024\\BIEN 462\\gait-in-parkinsons-disease-1.0.0\\gait-in-parkinsons-disease-1.0.0\\Ga_study\\GaCo08_01.txt\"\n",
    "df = pd.read_csv(file, delim_whitespace=True, header=None)\n",
    "df.columns = features\n",
    "\n",
    "\n",
    "def find_imfs(df):\n",
    "    selected_sensors = [2, 4, 6, 8]\n",
    "    emd = EMD()\n",
    "    imfs_by_sensor = {}\n",
    "\n",
    "    for sensor_num in selected_sensors:\n",
    "        # For left foot sensors\n",
    "        sensor_name_L = f'VGRF_L{sensor_num}'\n",
    "        signal_L = df[sensor_name_L].values\n",
    "        imfs_L = emd(signal_L)\n",
    "        for i, imf in enumerate(imfs_L):\n",
    "            imfs_by_sensor[f'{sensor_name_L}_IMF{i+1}'] = imf\n",
    "\n",
    "        # For right foot sensors\n",
    "        sensor_name_R = f'VGRF_R{sensor_num}'\n",
    "        signal_R = df[sensor_name_R].values\n",
    "        imfs_R = emd(signal_R)\n",
    "        for i, imf in enumerate(imfs_R):\n",
    "            imfs_by_sensor[f'{sensor_name_R}_IMF{i+1}'] = imf\n",
    "\n",
    "    return imfs_by_sensor\n",
    "\n",
    "\n",
    "imfs_by_sensor = find_imfs(df)\n",
    "# Power spectral analysis of the IMFs using scipy.signal\n",
    "def calculate_psd(imfs):\n",
    "    psd_dict = {}  \n",
    "    fs = 100 # sampling frequency in Hz\n",
    "\n",
    "    for i, imf in enumerate(imfs): # imfs being 2D array & each row an IMF\n",
    "        f, Pxx_den = scipy.signal.periodogram(imf, fs)\n",
    "        psd_dict[f'IMF{i+1}'] = (f, Pxx_den)\n",
    "\n",
    "    return psd_dict\n",
    "\n"
   ]
  },
  {
   "cell_type": "code",
   "execution_count": 13,
   "metadata": {},
   "outputs": [],
   "source": [
    "imfs_df = pd.DataFrame(list(imfs_by_sensor.items()), columns=['sensor_name', 'IMFs'])\n",
    "imfs_df.to_csv('IMF_GaCo16_01.csv', index=False)"
   ]
  },
  {
   "cell_type": "code",
   "execution_count": 16,
   "metadata": {},
   "outputs": [
    {
     "ename": "KeyError",
     "evalue": "'VGRF_L8'",
     "output_type": "error",
     "traceback": [
      "\u001b[1;31m---------------------------------------------------------------------------\u001b[0m",
      "\u001b[1;31mKeyError\u001b[0m                                  Traceback (most recent call last)",
      "Cell \u001b[1;32mIn[16], line 34\u001b[0m\n\u001b[0;32m     32\u001b[0m sensor_name \u001b[38;5;241m=\u001b[39m \u001b[38;5;124m'\u001b[39m\u001b[38;5;124mVGRF_L8\u001b[39m\u001b[38;5;124m'\u001b[39m\n\u001b[0;32m     33\u001b[0m signal \u001b[38;5;241m=\u001b[39m df[sensor_name]\u001b[38;5;241m.\u001b[39mvalues  \u001b[38;5;66;03m# Make sure df and sensor_name are defined\u001b[39;00m\n\u001b[1;32m---> 34\u001b[0m imfs \u001b[38;5;241m=\u001b[39m imfs_by_sensor[sensor_name]  \u001b[38;5;66;03m# Make sure imfs_by_sensor is defined and contains the IMFs\u001b[39;00m\n\u001b[0;32m     36\u001b[0m plot_imfs(signal, imfs, sensor_name)\n",
      "\u001b[1;31mKeyError\u001b[0m: 'VGRF_L8'"
     ]
    }
   ],
   "source": [
    "def plot_imfs(signal, imfs, sensor_name):\n",
    "    \"\"\"\n",
    "    Plots the original signal and its corresponding IMFs.\n",
    "    \n",
    "    :param signal: The original signal (1D numpy array).\n",
    "    :param imfs: The Intrinsic Mode Functions (2D numpy array where each row is an IMF).\n",
    "    :param sensor_name: The name of the sensor (string) for titling the plot.\n",
    "    \"\"\"\n",
    "    n_imfs = imfs.shape[0]\n",
    "    \n",
    "    # Create a figure with subplots\n",
    "    fig, axs = plt.subplots(n_imfs + 1, 1, figsize=(10, 2 * n_imfs))  # +1 for the original signal\n",
    "    \n",
    "    # Plot the original signal\n",
    "    axs[0].plot(signal)\n",
    "    axs[0].set_title(f'Original Signal: {sensor_name}')\n",
    "    axs[0].set_ylabel('Amplitude')\n",
    "    \n",
    "    # Plot each IMF in a separate subplot\n",
    "    for i in range(n_imfs):\n",
    "        axs[i + 1].plot(imfs[i])\n",
    "        axs[i + 1].set_title(f'IMF {i+1}')\n",
    "        axs[i + 1].set_ylabel('Amplitude')\n",
    "    \n",
    "    # Set the xlabel for the last subplot\n",
    "    axs[-1].set_xlabel('Time')\n",
    "\n",
    "    plt.tight_layout()\n",
    "    plt.show()\n",
    "\n",
    "# Example usage for plotting the IMFs for a specific sensor (e.g., 'VGRF_L8')\n",
    "sensor_name = 'VGRF_L8'\n",
    "signal = df[sensor_name].values  # Make sure df and sensor_name are defined\n",
    "imfs = imfs_by_sensor[sensor_name]  # Make sure imfs_by_sensor is defined and contains the IMFs\n",
    "\n",
    "plot_imfs(signal, imfs, sensor_name)"
   ]
  },
  {
   "cell_type": "code",
   "execution_count": 15,
   "metadata": {},
   "outputs": [
    {
     "ename": "NameError",
     "evalue": "name 'imfs' is not defined",
     "output_type": "error",
     "traceback": [
      "\u001b[1;31m---------------------------------------------------------------------------\u001b[0m",
      "\u001b[1;31mNameError\u001b[0m                                 Traceback (most recent call last)",
      "Cell \u001b[1;32mIn[15], line 13\u001b[0m\n\u001b[0;32m     10\u001b[0m     plt\u001b[38;5;241m.\u001b[39mlegend()\n\u001b[0;32m     11\u001b[0m     plt\u001b[38;5;241m.\u001b[39mshow()\n\u001b[1;32m---> 13\u001b[0m \u001b[38;5;28mprint\u001b[39m(imfs)\n",
      "\u001b[1;31mNameError\u001b[0m: name 'imfs' is not defined"
     ]
    }
   ],
   "source": [
    "# ploting function for psd_dict\n",
    "\n",
    "def plot_psd_for_all_imfs(psd_dict):\n",
    "    plt.figure(figsize=(10, 6))\n",
    "    for imf, (freqs, pxx_den) in psd_dict.items():\n",
    "        plt.plot(freqs, pxx_den, label=imf)\n",
    "    plt.xlabel('Frequency [Hz]')\n",
    "    plt.ylabel('PSD [V**2/Hz]')\n",
    "    plt.title('Power Spectral Density for Each IMF')\n",
    "    plt.legend()\n",
    "    plt.show()\n",
    "\n",
    "print(imfs)"
   ]
  },
  {
   "cell_type": "code",
   "execution_count": null,
   "metadata": {},
   "outputs": [
    {
     "data": {
      "image/png": "[encoded data removed]",
      "text/plain": [
       "<Figure size 1000x600 with 1 Axes>"
      ]
     },
     "metadata": {},
     "output_type": "display_data"
    }
   ],
   "source": [
    "psd_dict = calculate_psd(imfs)\n",
    "plot_psd_for_all_imfs(psd_dict)"
   ]
  },
  {
   "cell_type": "code",
   "execution_count": null,
   "metadata": {},
   "outputs": [],
   "source": [
    "# Extracting dominant IMFs using psd done\n",
    "\n",
    "def find_dominant_imfs(psd_dict, N):\n",
    "    total_power = {imf: np.sum(pxx_den) for imf, (f,pxx_den) in psd_dict.items()}\n",
    "\n",
    "    sorted_imfs = sorted(total_power.items(), key=lambda x:x[1], reverse=True)\n",
    "    # Select top N\n",
    "    dominant_imfs = sorted_imfs[:N]\n",
    "\n",
    "    return dict(dominant_imfs)"
   ]
  },
  {
   "cell_type": "code",
   "execution_count": null,
   "metadata": {},
   "outputs": [
    {
     "name": "stdout",
     "output_type": "stream",
     "text": [
      "Dominant IMFs: {'IMF7': 942595.1253162491, 'IMF6': 563592.1370571, 'IMF5': 225980.9804222167}\n"
     ]
    },
    {
     "data": {
      "image/png": "[encoded data removed]",
      "text/plain": [
       "<Figure size 1000x600 with 1 Axes>"
      ]
     },
     "metadata": {},
     "output_type": "display_data"
    }
   ],
   "source": [
    "dominant_imfs = find_dominant_imfs(psd_dict,3)\n",
    "# Ensure this returns the expected dominant IMFs\n",
    "# dominant_imfs_keys = find_dominant_imfs(psd_dict, n=3)\n",
    "print(\"Dominant IMFs:\", dominant_imfs)\n",
    "\n",
    "def plot_dominant_imfs(psd_dict, dominant_imfs_keys):\n",
    "    plt.figure(figsize=(10, 6))\n",
    "    \n",
    "    for imf in psd_dict:\n",
    "        if imf not in dominant_imfs_keys.keys():\n",
    "            freqs, pxx_den = psd_dict[imf]\n",
    "            plt.plot(freqs, pxx_den, linestyle='--', alpha=0.5, label=imf)\n",
    "    \n",
    "    # Now plot the dominant IMFs for clear visibility\n",
    "    for imf in dominant_imfs_keys.keys():\n",
    "        freqs, pxx_den = psd_dict[imf]\n",
    "        plt.plot(freqs, pxx_den, linewidth=2, marker='o', markersize=4, label=imf)\n",
    "    \n",
    "    plt.xlabel('Frequency [Hz]')\n",
    "    plt.ylabel('PSD [V**2/Hz]')\n",
    "    plt.title('Power Spectral Density for Dominant IMFs')\n",
    "    plt.legend()\n",
    "    plt.show()\n",
    "\n",
    "plot_dominant_imfs(psd_dict, dominant_imfs)"
   ]
  },
  {
   "cell_type": "code",
   "execution_count": 60,
   "metadata": {},
   "outputs": [],
   "source": [
    "def find_imfs(df, T, file_name):\n",
    "    selected_sensors = [2, 4, 6, 8]\n",
    "    emd = EMD()\n",
    "    imfs_by_sensor = {}\n",
    "    f = 100\n",
    "    start_index = 0\n",
    "    end_index = len(df['VGRF_L1'])\n",
    "\n",
    "    total_points = len(df['VGRF_L1'])\n",
    "\n",
    "    if total_points < 12000:\n",
    "        print(f\"Length of {df.name} is less than 2 min: {total_points}\", file=file_name)\n",
    "    else:\n",
    "        mid_point = total_points // 2\n",
    "        start_index = mid_point - 5000 \n",
    "        end_index = mid_point + 5000\n",
    "\n",
    "        # Print the length of the original column\n",
    "\n",
    "    for sensor_num in selected_sensors:\n",
    "        sensor_name_L = f'VGRF_L{sensor_num}'\n",
    "        sensor_name_R = f'VGRF_R{sensor_num}'\n",
    "\n",
    "\n",
    "        # Extract the middle 100 seconds of data\n",
    "        data_L = df[sensor_name_L].values[start_index:end_index]\n",
    "        data_R = df[sensor_name_R].values[start_index:end_index]\n",
    "\n",
    "        # Apply EMD and round the IMFs to two decimal places\n",
    "        imfs_L = np.round(emd(data_L), 2)\n",
    "        imfs_R = np.round(emd(data_R), 2)\n",
    "\n",
    "        # Print the length of the generated array\n",
    "\n",
    "        imfs_by_sensor[sensor_name_L] = imfs_L\n",
    "        imfs_by_sensor[sensor_name_R] = imfs_R\n",
    "    \n",
    "    print(f\"Length of IMF for {df.name} is: {imfs_L.size}\", file=file_name)\n",
    "\n",
    "    return imfs_by_sensor\n",
    "\n",
    "\n",
    "\n",
    "\n",
    "def calculate_psd(imfs):\n",
    "    psd_dict = {}\n",
    "    fs = 100  # Sampling frequency in Hz\n",
    "\n",
    "    for i, imf in enumerate(imfs):\n",
    "        f, Pxx_den = scipy.signal.periodogram(imf, fs)\n",
    "        psd_dict[f'IMF{i + 1}'] = (f, Pxx_den)\n",
    "\n",
    "    return psd_dict\n",
    "\n",
    "def process_individual_file(df, T, num_dominant_IMFs, num_sensors, log_file):\n",
    "    selected_sensors = [2, 4, 6, 8]\n",
    "    imfs_individual = find_imfs(df, T, log_file)\n",
    "    imfs_individual_selected = {}\n",
    "\n",
    "    for sensor_index in selected_sensors:\n",
    "        sensor_name_L = f'VGRF_L{sensor_index}'\n",
    "        sensor_name_R = f'VGRF_R{sensor_index}'\n",
    "\n",
    "        imfs_L = imfs_individual[sensor_name_L]\n",
    "        imfs_R = imfs_individual[sensor_name_R]\n",
    "\n",
    "        psd_L = calculate_psd(imfs_L)\n",
    "        psd_R = calculate_psd(imfs_R)\n",
    "        dominant_imfs_L_dict = find_dominant_imfs(psd_L, num_dominant_IMFs)\n",
    "        dominant_imfs_R_dict = find_dominant_imfs(psd_R, num_dominant_IMFs)\n",
    "\n",
    "        for i, (key, _) in enumerate(dominant_imfs_L_dict.items()):\n",
    "            imfs_individual_selected[f'{sensor_name_L}_IMF{i + 1}'] = np.round(imfs_L[int(key.replace('IMF', '')) - 1], 2)\n",
    "        for i, (key, _) in enumerate(dominant_imfs_R_dict.items()):\n",
    "            imfs_individual_selected[f'{sensor_name_R}_IMF{i + 1}'] = np.round(imfs_R[int(key.replace('IMF', '')) - 1], 2)\n",
    "\n",
    "    return imfs_individual_selected\n",
    "\n",
    "\n",
    "# dataset_dir_control = \"csv_averaged_force_data_4col/GaCo04_01.csv\"\n",
    "# dataset_dir_pd = \"csv_averaged_force_data_4col/GaPt03_01.csv\"\n",
    "\n",
    "\n"
   ]
  },
  {
   "cell_type": "code",
   "execution_count": 62,
   "metadata": {},
   "outputs": [
    {
     "name": "stdout",
     "output_type": "stream",
     "text": [
      "Processing file: JuCo01_01.txt\n",
      "Processing file: JuCo02_01.txt\n",
      "Processing file: JuCo03_01.txt\n",
      "Processing file: JuCo04_01.txt\n",
      "Processing file: JuCo05_01.txt\n",
      "Processing file: JuCo06_01.txt\n",
      "Processing file: JuCo07_01.txt\n",
      "Processing file: JuCo08_01.txt\n",
      "Processing file: JuCo09_01.txt\n",
      "Processing file: JuCo11_01.txt\n",
      "Processing file: JuCo12_01.txt\n",
      "Processing file: JuCo13_01.txt\n",
      "Processing file: JuCo14_01.txt\n",
      "Processing file: JuCo15_01.txt\n",
      "Processing file: JuCo16_01.txt\n",
      "Processing file: JuCo17_01.txt\n",
      "Processing file: JuCo18_01.txt\n",
      "Processing file: JuCo19_01.txt\n",
      "Processing file: JuCo20_01.txt\n",
      "Processing file: JuCo21_01.txt\n",
      "Processing file: JuCo22_01.txt\n",
      "Processing file: JuCo23_01.txt\n",
      "Processing file: JuCo24_01.txt\n",
      "Processing file: JuCo25_01.txt\n",
      "Processing file: JuCo26_01.txt\n",
      "Processing file: JuPt01_01.txt\n",
      "Processing file: JuPt01_02.txt\n",
      "Processing file: JuPt01_03.txt\n",
      "Processing file: JuPt01_04.txt\n",
      "Processing file: JuPt01_05.txt\n",
      "Processing file: JuPt01_06.txt\n",
      "Processing file: JuPt02_01.txt\n",
      "Processing file: JuPt03_01.txt\n",
      "Processing file: JuPt03_02.txt\n",
      "Processing file: JuPt03_03.txt\n",
      "Processing file: JuPt03_04.txt\n",
      "Processing file: JuPt03_05.txt\n",
      "Processing file: JuPt03_06.txt\n",
      "Processing file: JuPt03_07.txt\n",
      "Processing file: JuPt04_01.txt\n",
      "Processing file: JuPt05_01.txt\n",
      "Processing file: JuPt06_01.txt\n",
      "Processing file: JuPt06_02.txt\n",
      "Processing file: JuPt06_03.txt\n",
      "Processing file: JuPt06_04.txt\n",
      "Processing file: JuPt06_05.txt\n",
      "Processing file: JuPt06_06.txt\n",
      "Processing file: JuPt06_07.txt\n",
      "Processing file: JuPt07_01.txt\n",
      "Processing file: JuPt08_01.txt\n",
      "Processing file: JuPt09_01.txt\n"
     ]
    },
    {
     "ename": "KeyboardInterrupt",
     "evalue": "",
     "output_type": "error",
     "traceback": [
      "\u001b[1;31m---------------------------------------------------------------------------\u001b[0m",
      "\u001b[1;31mKeyboardInterrupt\u001b[0m                         Traceback (most recent call last)",
      "Cell \u001b[1;32mIn[62], line 28\u001b[0m\n\u001b[0;32m     26\u001b[0m num_dominant_IMFs \u001b[38;5;241m=\u001b[39m \u001b[38;5;241m3\u001b[39m  \u001b[38;5;66;03m# Adjust as needed\u001b[39;00m\n\u001b[0;32m     27\u001b[0m num_sensors \u001b[38;5;241m=\u001b[39m \u001b[38;5;241m4\u001b[39m  \u001b[38;5;66;03m# Adjust as needed\u001b[39;00m\n\u001b[1;32m---> 28\u001b[0m dominant_imfs \u001b[38;5;241m=\u001b[39m process_individual_file(df, T, num_dominant_IMFs, num_sensors, log_file)\n\u001b[0;32m     30\u001b[0m imfs_df \u001b[38;5;241m=\u001b[39m pd\u001b[38;5;241m.\u001b[39mDataFrame(\u001b[38;5;28mlist\u001b[39m(dominant_imfs\u001b[38;5;241m.\u001b[39mitems()), columns\u001b[38;5;241m=\u001b[39m[\u001b[38;5;124m'\u001b[39m\u001b[38;5;124msensor_name\u001b[39m\u001b[38;5;124m'\u001b[39m, \u001b[38;5;124m'\u001b[39m\u001b[38;5;124mIMFs\u001b[39m\u001b[38;5;124m'\u001b[39m])\n\u001b[0;32m     31\u001b[0m imfs_df\u001b[38;5;241m.\u001b[39mdescribe()\n",
      "Cell \u001b[1;32mIn[60], line 58\u001b[0m, in \u001b[0;36mprocess_individual_file\u001b[1;34m(df, T, num_dominant_IMFs, num_sensors, log_file)\u001b[0m\n\u001b[0;32m     56\u001b[0m \u001b[38;5;28;01mdef\u001b[39;00m \u001b[38;5;21mprocess_individual_file\u001b[39m(df, T, num_dominant_IMFs, num_sensors, log_file):\n\u001b[0;32m     57\u001b[0m     selected_sensors \u001b[38;5;241m=\u001b[39m [\u001b[38;5;241m2\u001b[39m, \u001b[38;5;241m4\u001b[39m, \u001b[38;5;241m6\u001b[39m, \u001b[38;5;241m8\u001b[39m]\n\u001b[1;32m---> 58\u001b[0m     imfs_individual \u001b[38;5;241m=\u001b[39m find_imfs(df, T, log_file)\n\u001b[0;32m     59\u001b[0m     imfs_individual_selected \u001b[38;5;241m=\u001b[39m {}\n\u001b[0;32m     61\u001b[0m     \u001b[38;5;28;01mfor\u001b[39;00m sensor_index \u001b[38;5;129;01min\u001b[39;00m selected_sensors:\n",
      "Cell \u001b[1;32mIn[60], line 32\u001b[0m, in \u001b[0;36mfind_imfs\u001b[1;34m(df, T, file_name)\u001b[0m\n\u001b[0;32m     30\u001b[0m \u001b[38;5;66;03m# Apply EMD and round the IMFs to two decimal places\u001b[39;00m\n\u001b[0;32m     31\u001b[0m imfs_L \u001b[38;5;241m=\u001b[39m np\u001b[38;5;241m.\u001b[39mround(emd(data_L), \u001b[38;5;241m2\u001b[39m)\n\u001b[1;32m---> 32\u001b[0m imfs_R \u001b[38;5;241m=\u001b[39m np\u001b[38;5;241m.\u001b[39mround(emd(data_R), \u001b[38;5;241m2\u001b[39m)\n\u001b[0;32m     34\u001b[0m \u001b[38;5;66;03m# Print the length of the generated array\u001b[39;00m\n\u001b[0;32m     36\u001b[0m imfs_by_sensor[sensor_name_L] \u001b[38;5;241m=\u001b[39m imfs_L\n",
      "File \u001b[1;32mc:\\Users\\andre\\anaconda3\\Lib\\site-packages\\PyEMD\\EMD.py:120\u001b[0m, in \u001b[0;36mEMD.__call__\u001b[1;34m(self, S, T, max_imf)\u001b[0m\n\u001b[0;32m    119\u001b[0m \u001b[38;5;28;01mdef\u001b[39;00m \u001b[38;5;21m__call__\u001b[39m(\u001b[38;5;28mself\u001b[39m, S: np\u001b[38;5;241m.\u001b[39mndarray, T: Optional[np\u001b[38;5;241m.\u001b[39mndarray] \u001b[38;5;241m=\u001b[39m \u001b[38;5;28;01mNone\u001b[39;00m, max_imf: \u001b[38;5;28mint\u001b[39m \u001b[38;5;241m=\u001b[39m \u001b[38;5;241m-\u001b[39m\u001b[38;5;241m1\u001b[39m) \u001b[38;5;241m-\u001b[39m\u001b[38;5;241m>\u001b[39m np\u001b[38;5;241m.\u001b[39mndarray:\n\u001b[1;32m--> 120\u001b[0m     \u001b[38;5;28;01mreturn\u001b[39;00m \u001b[38;5;28mself\u001b[39m\u001b[38;5;241m.\u001b[39memd(S, T\u001b[38;5;241m=\u001b[39mT, max_imf\u001b[38;5;241m=\u001b[39mmax_imf)\n",
      "File \u001b[1;32mc:\\Users\\andre\\anaconda3\\Lib\\site-packages\\PyEMD\\EMD.py:858\u001b[0m, in \u001b[0;36mEMD.emd\u001b[1;34m(self, S, T, max_imf)\u001b[0m\n\u001b[0;32m    855\u001b[0m nzm \u001b[38;5;241m=\u001b[39m \u001b[38;5;28mlen\u001b[39m(indzer)\n\u001b[0;32m    857\u001b[0m \u001b[38;5;28;01mif\u001b[39;00m extNo \u001b[38;5;241m>\u001b[39m \u001b[38;5;241m2\u001b[39m:\n\u001b[1;32m--> 858\u001b[0m     max_env, min_env, eMax, eMin \u001b[38;5;241m=\u001b[39m \u001b[38;5;28mself\u001b[39m\u001b[38;5;241m.\u001b[39mextract_max_min_spline(T, imf)\n\u001b[0;32m    859\u001b[0m     mean[:] \u001b[38;5;241m=\u001b[39m \u001b[38;5;241m0.5\u001b[39m \u001b[38;5;241m*\u001b[39m (max_env \u001b[38;5;241m+\u001b[39m min_env)\n\u001b[0;32m    861\u001b[0m     imf_old \u001b[38;5;241m=\u001b[39m imf\u001b[38;5;241m.\u001b[39mcopy()\n",
      "File \u001b[1;32mc:\\Users\\andre\\anaconda3\\Lib\\site-packages\\PyEMD\\EMD.py:158\u001b[0m, in \u001b[0;36mEMD.extract_max_min_spline\u001b[1;34m(self, T, S)\u001b[0m\n\u001b[0;32m    154\u001b[0m     \u001b[38;5;28;01mreturn\u001b[39;00m [\u001b[38;5;241m-\u001b[39m\u001b[38;5;241m1\u001b[39m] \u001b[38;5;241m*\u001b[39m \u001b[38;5;241m4\u001b[39m  \u001b[38;5;66;03m# TODO: Fix this. Doesn't match the signature.\u001b[39;00m\n\u001b[0;32m    156\u001b[0m \u001b[38;5;66;03m#########################################\u001b[39;00m\n\u001b[0;32m    157\u001b[0m \u001b[38;5;66;03m# Extrapolation of signal (over boundaries)\u001b[39;00m\n\u001b[1;32m--> 158\u001b[0m max_extrema, min_extrema \u001b[38;5;241m=\u001b[39m \u001b[38;5;28mself\u001b[39m\u001b[38;5;241m.\u001b[39mprepare_points(T, S, max_pos, max_val, min_pos, min_val)\n\u001b[0;32m    160\u001b[0m _, max_spline \u001b[38;5;241m=\u001b[39m \u001b[38;5;28mself\u001b[39m\u001b[38;5;241m.\u001b[39mspline_points(T, max_extrema)\n\u001b[0;32m    161\u001b[0m _, min_spline \u001b[38;5;241m=\u001b[39m \u001b[38;5;28mself\u001b[39m\u001b[38;5;241m.\u001b[39mspline_points(T, min_extrema)\n",
      "File \u001b[1;32mc:\\Users\\andre\\anaconda3\\Lib\\site-packages\\PyEMD\\EMD.py:204\u001b[0m, in \u001b[0;36mEMD.prepare_points\u001b[1;34m(self, T, S, max_pos, max_val, min_pos, min_val)\u001b[0m\n\u001b[0;32m    202\u001b[0m     \u001b[38;5;28;01mreturn\u001b[39;00m \u001b[38;5;28mself\u001b[39m\u001b[38;5;241m.\u001b[39m_prepare_points_parabol(T, S, max_pos, max_val, min_pos, min_val)\n\u001b[0;32m    203\u001b[0m \u001b[38;5;28;01melif\u001b[39;00m \u001b[38;5;28mself\u001b[39m\u001b[38;5;241m.\u001b[39mextrema_detection \u001b[38;5;241m==\u001b[39m \u001b[38;5;124m\"\u001b[39m\u001b[38;5;124msimple\u001b[39m\u001b[38;5;124m\"\u001b[39m:\n\u001b[1;32m--> 204\u001b[0m     \u001b[38;5;28;01mreturn\u001b[39;00m \u001b[38;5;28mself\u001b[39m\u001b[38;5;241m.\u001b[39m_prepare_points_simple(T, S, max_pos, max_val, min_pos, min_val)\n\u001b[0;32m    205\u001b[0m \u001b[38;5;28;01melse\u001b[39;00m:\n\u001b[0;32m    206\u001b[0m     msg \u001b[38;5;241m=\u001b[39m \u001b[38;5;124m\"\u001b[39m\u001b[38;5;124mIncorrect extrema detection type. Please try: \u001b[39m\u001b[38;5;124m'\u001b[39m\u001b[38;5;124msimple\u001b[39m\u001b[38;5;124m'\u001b[39m\u001b[38;5;124m or \u001b[39m\u001b[38;5;124m'\u001b[39m\u001b[38;5;124mparabol\u001b[39m\u001b[38;5;124m'\u001b[39m\u001b[38;5;124m.\u001b[39m\u001b[38;5;124m\"\u001b[39m\n",
      "File \u001b[1;32mc:\\Users\\andre\\anaconda3\\Lib\\site-packages\\PyEMD\\EMD.py:441\u001b[0m, in \u001b[0;36mEMD._prepare_points_simple\u001b[1;34m(self, T, S, max_pos, max_val, min_pos, min_val)\u001b[0m\n\u001b[0;32m    438\u001b[0m zrmax \u001b[38;5;241m=\u001b[39m S[rmax]\n\u001b[0;32m    439\u001b[0m zrmin \u001b[38;5;241m=\u001b[39m S[rmin]\n\u001b[1;32m--> 441\u001b[0m tmin \u001b[38;5;241m=\u001b[39m np\u001b[38;5;241m.\u001b[39mappend(tlmin, np\u001b[38;5;241m.\u001b[39mappend(T[ind_min], trmin))\n\u001b[0;32m    442\u001b[0m tmax \u001b[38;5;241m=\u001b[39m np\u001b[38;5;241m.\u001b[39mappend(tlmax, np\u001b[38;5;241m.\u001b[39mappend(T[ind_max], trmax))\n\u001b[0;32m    443\u001b[0m zmin \u001b[38;5;241m=\u001b[39m np\u001b[38;5;241m.\u001b[39mappend(zlmin, np\u001b[38;5;241m.\u001b[39mappend(S[ind_min], zrmin))\n",
      "File \u001b[1;32m<__array_function__ internals>:177\u001b[0m, in \u001b[0;36mappend\u001b[1;34m(*args, **kwargs)\u001b[0m\n",
      "\u001b[1;31mKeyboardInterrupt\u001b[0m: "
     ]
    },
    {
     "ename": "",
     "evalue": "",
     "output_type": "error",
     "traceback": [
      "\u001b[1;31mThe Kernel crashed while executing code in the current cell or a previous cell. \n",
      "\u001b[1;31mPlease review the code in the cell(s) to identify a possible cause of the failure. \n",
      "\u001b[1;31mClick <a href='https://aka.ms/vscodeJupyterKernelCrash'>here</a> for more info. \n",
      "\u001b[1;31mView Jupyter <a href='command:jupyter.viewOutput'>log</a> for further details."
     ]
    }
   ],
   "source": [
    "\n",
    "# Define your data_files, data_directory_Ju, and features variables here\n",
    "data_files = [f for f in os.listdir(data_directory_Ju) if os.path.isfile(os.path.join(data_directory_Ju, f))]\n",
    "features = ['Time','VGRF_L1','VGRF_L2','VGRF_L3','VGRF_L4','VGRF_L5','VGRF_L6','VGRF_L7','VGRF_L8',\n",
    "            'VGRF_R1','VGRF_R2','VGRF_R3','VGRF_R4','VGRF_R5','VGRF_R6','VGRF_R7','VGRF_R8','Total Force_L','Total Force_R']\n",
    "\n",
    "file_error = []\n",
    "output_directory = r\"C:\\Users\\andre\\OneDrive - McGill University\\Documents\\McGill Winter 2024\\BIEN 462\\gait-in-parkinsons-disease-1.0.0\\Ouput_IMF\"\n",
    "log_file_path = os.path.join(output_directory, \"processing_log.txt\")  # Path for the log file\n",
    "\n",
    "# Open the log file for writing\n",
    "with open(log_file_path, \"w\") as log_file:\n",
    "    for file_name in data_files:\n",
    "        if file_name.startswith('.'):\n",
    "            # Skip hidden files like .DS_Store\n",
    "            continue\n",
    "\n",
    "        print(f\"Processing file: {file_name}\")\n",
    "        file_path = os.path.join(data_directory_Ju, file_name)\n",
    "\n",
    "        try:\n",
    "            df = pd.read_csv(file_path, delim_whitespace=True, header=None, encoding_errors='ignore')\n",
    "            df.columns = features\n",
    "            df.name = file_name.split('\\\\')[-1]\n",
    "\n",
    "            T = 110\n",
    "            num_dominant_IMFs = 3  # Adjust as needed\n",
    "            num_sensors = 4  # Adjust as needed\n",
    "            dominant_imfs = process_individual_file(df, T, num_dominant_IMFs, num_sensors, log_file)\n",
    "            \n",
    "            imfs_df = pd.DataFrame(list(dominant_imfs.items()), columns=['sensor_name', 'IMFs'])\n",
    "            imfs_df.describe()\n",
    "            output_file_path = os.path.join(output_directory, f\"{file_name.split('.')[0]}_dominant_IMFs.csv\")\n",
    "            imfs_df.to_csv(output_file_path, index=False)\n",
    "        except Exception as e:\n",
    "            print(f\"Error processing file {file_name}: {e}\")\n",
    "            file_error.append(file_path)\n",
    "\n",
    "    if file_error:\n",
    "        print(\"Files with errors:\", file_error, file=log_file)\n",
    "    else:\n",
    "        print(\"All files processed successfully.\", file=log_file)\n"
   ]
  },
  {
   "cell_type": "code",
   "execution_count": null,
   "metadata": {},
   "outputs": [],
   "source": [
    "## NOW ONTO ML TRAINING \n",
    "\n",
    "# Define model architecture - based on StackOverFlow\n",
    "# Link: https://stackoverflow.com/questions/55433649/how-to-combine-lstm-and-cnn-models-in-keras\n",
    "\n",
    "model = Sequential()\n",
    "\n",
    "# Assuming each time series input has a shape of (sequence_length, num_dominant_imfs)\n",
    "model.add(Conv1D(filters=64, kernel_size = 3, activation = 'relu',input_shape= (sequence_length, num_dominant_imfs)))\n",
    "model.add(MaxPooling1D(pool_size=2))\n",
    "model.add(Dropout(0.5))\n",
    "\n",
    "model.add(Conv1D(filters=128, kernel_size=3, activation='relu'))\n",
    "model.add(MaxPooling1D(pool_size=2))\n",
    "model.add(Dropout(0.5))\n",
    "\n",
    "# Flatten output from CNN layers before passing onto LSTM\n",
    "model.add(Flatten())\n",
    "\n",
    "model.add(Reshape((-1, 128)))\n",
    "model.add(LSTM(100))\n",
    "model.add(Dropout(0.5))\n",
    "\n",
    "# Per the paper, they used softmax LSTM, Adam optimizer, and a cross_entropy loss function\n",
    "model.add(Dense(num_classes, activation='softmax'))  # Assuming a classification task\n",
    "\n",
    "model.compile(optimizer='adam', loss='categorical_crossentropy', metrics=['accuracy'])\n"
   ]
  },
  {
   "cell_type": "code",
   "execution_count": null,
   "metadata": {},
   "outputs": [],
   "source": [
    "\n",
    "\n",
    "merged = Concatenate()([model1.output,model2.output])\n",
    "z = Dense(128, activation=\"relu\")(merged)\n",
    "z = Dropout(0.25)(z)\n",
    "z = Dense(1024, activation=\"relu\")(z)\n",
    "z = Dense(1, activation=\"sigmoid\")(z)\n",
    "\n",
    "model = Model(inputs=[model1.input, model2.input], outputs=z)\n",
    "\n",
    "model.compile(optimizer='adam',\n",
    "              loss='binary_crossentropy',\n",
    "              metrics=['accuracy'])\n",
    "\n",
    "\n",
    "        model.fit([x_train[train_index][:,:66], x_train[train_index][:,66:132], y_train[train_index], batch_size=100, epochs=100, verbose=2)"
   ]
  }
 ],
 "metadata": {
  "kernelspec": {
   "display_name": "Python 3",
   "language": "python",
   "name": "python3"
  },
  "language_info": {
   "codemirror_mode": {
    "name": "ipython",
    "version": 3
   },
   "file_extension": ".py",
   "mimetype": "text/x-python",
   "name": "python",
   "nbconvert_exporter": "python",
   "pygments_lexer": "ipython3",
   "version": "3.11.4"
  }
 },
 "nbformat": 4,
 "nbformat_minor": 2
}
