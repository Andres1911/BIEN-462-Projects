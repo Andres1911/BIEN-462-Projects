{
 "cells": [
  {
   "cell_type": "code",
   "execution_count": 41,
   "metadata": {},
   "outputs": [
    {
     "name": "stdout",
     "output_type": "stream",
     "text": [
      "[[0.000000e+00 0.000000e+00 1.991000e+02 ... 7.953000e+01 6.622000e+02\n",
      "  7.480000e+02]\n",
      " [1.000000e+00 1.000000e-02 1.991000e+02 ... 7.953000e+01 6.622000e+02\n",
      "  7.480000e+02]\n",
      " [2.000000e+00 2.000000e-02 1.991000e+02 ... 7.953000e+01 6.602200e+02\n",
      "  7.480000e+02]\n",
      " ...\n",
      " [1.211600e+04 1.211515e+02 3.524400e+02 ... 1.540000e+02 6.974000e+02\n",
      "  8.021200e+02]\n",
      " [1.211700e+04 1.211615e+02 3.524400e+02 ... 1.518000e+02 7.893600e+02\n",
      "  7.034500e+02]\n",
      " [1.211800e+04 1.211715e+02 3.472700e+02 ... 1.472900e+02 8.474400e+02\n",
      "  6.095100e+02]]\n"
     ]
    }
   ],
   "source": [
    "##Import library and read data\n",
    "import numpy as np \n",
    "import os,csv\n",
    "import matplotlib.pyplot as plt\n",
    "from scipy import signal\n",
    "from scipy.fft import fft, fftfreq\n",
    "import pandas as pd\n",
    "import os\n",
    "\n",
    "os.chdir(\"c:/Users/trivi/Documents/Bien462/csvdata\") # CHANGE THIS TO YOUR CSV DIRECTORY\n",
    "directory = os.getcwd()\n",
    "alldata = []\n",
    "start = 0\n",
    "getall = True\n",
    "threshold = 7\n",
    "filenames = []\n",
    "\n",
    "if getall:\n",
    "    for filename in os.listdir(directory):\n",
    "        f = os.path.join(directory, filename)\n",
    "        if os.path.isfile(f):\n",
    "            patient = open(filename)\n",
    "            read= list(csv.reader(patient))\n",
    "            data = np.array(read).astype(float)\n",
    "            alldata.append(data)\n",
    "            filenames.append(f[-13:-4])\n",
    "else:\n",
    "    patient = open(\"GaCo01_01.csv\")\n",
    "    read = list(csv.reader(patient))\n",
    "    data = np.array(read).astype(float)\n",
    "    alldata.append(data)\n",
    "    patient = open(\"GaPt03_01.csv\")\n",
    "    read = list(csv.reader(patient))\n",
    "    data = np.array(read).astype(float)\n",
    "    alldata.append(data)\n",
    "print(alldata[0])"
   ]
  },
  {
   "cell_type": "code",
   "execution_count": 45,
   "metadata": {},
   "outputs": [],
   "source": [
    "#FFT \n",
    "#Welch PSD\n",
    "\n",
    "def find(val,arr):\n",
    "    return np.argmin(np.abs(arr-val))\n",
    "\n",
    "N=8192\n",
    "allharmonics = np.zeros((len(filenames),8,3))\n",
    "for i,feature in enumerate(alldata):\n",
    "    for sensor in range(8):\n",
    "        xf, yf = signal.welch(feature[500:8692,sensor+2],100,\"hamming\",nperseg=N/4,nfft=N)\n",
    "        #Find peaks\n",
    "        peaks, properties = signal.find_peaks(20*np.log(yf[:500]), prominence = 70)\n",
    "        # Get ratio of harmonics vs fundamental amplitude\n",
    "        fundamental = (yf[peaks[0]])\n",
    "        fundfreq = xf[peaks[0]]\n",
    "        #print(peaks)\n",
    "        allharmonics[i,sensor] = [20*np.log((yf[find(fundfreq*2,xf[peaks[0]:500])+peaks[0]])/fundamental),\n",
    "                             20*np.log((yf[find(fundfreq*3,xf[peaks[0]:500])+peaks[0]])/fundamental),\n",
    "                             20*np.log((yf[find(fundfreq*4,xf[peaks[0]:500])+peaks[0]])/fundamental)]\n"
   ]
  },
  {
   "cell_type": "code",
   "execution_count": 47,
   "metadata": {},
   "outputs": [],
   "source": [
    "#Writing Data to file\n",
    "\n",
    "rows = [\"Patient,2nd1S,3rd1S,4th1S,2nd2S,3rd2S,4th2S,2nd3S,3rd3S,4th3S,2nd4S,3rd4S,4th4S,2nd5S,3rd5S,4th5S,2nd6S,3rd6S,4th6S,2nd7S,3rd7S,4th7S,2nd8S,3rd8S,4th8S,Disease\"]\n",
    "for n, l in enumerate(allharmonics):\n",
    "    line = [filenames[n]]\n",
    "    strline = ''\n",
    "    for o in l:\n",
    "        for m in o:\n",
    "            line.append(str(m))\n",
    "    if \"Pt\" in line[0]:\n",
    "        line.append(\"1\")\n",
    "    else:\n",
    "        line.append(\"0\")\n",
    "    rows.append(','.join(line))\n",
    "text = \"\\n\".join(rows) \n",
    "with open('harmonics/features3.csv', 'w') as f: \n",
    "    f.write(text)\n",
    "\n"
   ]
  },
  {
   "cell_type": "code",
   "execution_count": 52,
   "metadata": {},
   "outputs": [
    {
     "name": "stdout",
     "output_type": "stream",
     "text": [
      "Accuracy: 0.8529411764705882\n"
     ]
    },
    {
     "name": "stderr",
     "output_type": "stream",
     "text": [
      "c:\\Users\\trivi\\Documents\\Bien462\\Lib\\site-packages\\sklearn\\utils\\validation.py:1300: DataConversionWarning: A column-vector y was passed when a 1d array was expected. Please change the shape of y to (n_samples, ), for example using ravel().\n",
      "  y = column_or_1d(y, warn=True)\n"
     ]
    },
    {
     "data": {
      "image/png": "[encoded data removed]",
      "text/plain": [
       "<Figure size 640x480 with 2 Axes>"
      ]
     },
     "metadata": {},
     "output_type": "display_data"
    }
   ],
   "source": [
    "#Load data into pandas dataframe\n",
    "features= pd.read_csv(\"Harmonics/features3.csv\")\n",
    "### X are the variables that predict and y the variable we are trying to predict.\n",
    "X=features[['2nd1S','3rd1S','4th1S','2nd2S','3rd2S','4th2S','2nd3S','3rd3S','4th3S','2nd4S','3rd4S','4th4S','2nd5S','3rd5S','4th5S','2nd6S','3rd6S','4th6S','2nd7S','3rd7S','4th7S','2nd8S','3rd8S','4th8S']]\n",
    "y=features[['Disease']]\n",
    "\n",
    "### The data has to be divided in training and test set.\n",
    "from sklearn.model_selection import train_test_split\n",
    "X_train,X_test,y_train,y_test=train_test_split(X,y,test_size=0.25)\n",
    "\n",
    "### Data Normalization\n",
    "from sklearn.preprocessing import StandardScaler\n",
    "ss_train = StandardScaler()\n",
    "X_train = ss_train.fit_transform(X_train)\n",
    "\n",
    "ss_test = StandardScaler()\n",
    "X_test = ss_test.fit_transform(X_test)\n",
    "\n",
    "###We import the model that will be used.\n",
    "from sklearn.linear_model import LogisticRegression\n",
    "# Create an instance of the model.\n",
    "logreg = LogisticRegression()\n",
    "# Training the model.\n",
    "logreg.fit(X_train,y_train)\n",
    "# Do prediction.\n",
    "y_pred=logreg.predict(X_test)\n",
    "\n",
    "# Analyzing the results\n",
    "from sklearn import metrics\n",
    "cnf_matrix = metrics.confusion_matrix(y_test, y_pred)\n",
    "\n",
    "# Libraries used for plots and arrays.\n",
    "import matplotlib.pyplot as plt\n",
    "import seaborn as sns\n",
    "import numpy as np\n",
    "\n",
    "class_names=[0,1] # name  of classes\n",
    "fig, ax = plt.subplots()\n",
    "tick_marks = np.arange(len(class_names))\n",
    "plt.xticks(tick_marks, class_names)\n",
    "plt.yticks(tick_marks, class_names)\n",
    "# create heatmap\n",
    "sns.heatmap(pd.DataFrame(cnf_matrix), annot=True, cmap=\"YlGnBu\" ,fmt='g')\n",
    "ax.xaxis.set_label_position(\"top\")\n",
    "plt.tight_layout()\n",
    "plt.title('Confusion matrix', y=1.1)\n",
    "plt.ylabel('Actual label')\n",
    "plt.xlabel('Predicted label')\n",
    "\n",
    "print(\"Accuracy:\",metrics.accuracy_score(y_test, y_pred))"
   ]
  }
 ],
 "metadata": {
  "kernelspec": {
   "display_name": "Bien462",
   "language": "python",
   "name": "python3"
  },
  "language_info": {
   "codemirror_mode": {
    "name": "ipython",
    "version": 3
   },
   "file_extension": ".py",
   "mimetype": "text/x-python",
   "name": "python",
   "nbconvert_exporter": "python",
   "pygments_lexer": "ipython3",
   "version": "3.12.0"
  }
 },
 "nbformat": 4,
 "nbformat_minor": 2
}
